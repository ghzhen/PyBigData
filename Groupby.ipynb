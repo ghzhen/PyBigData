{
 "cells": [
  {
   "cell_type": "code",
   "execution_count": 1,
   "metadata": {
    "collapsed": true
   },
   "outputs": [],
   "source": [
    "import csv\n",
    "import numpy as np\n",
    "import pandas as pd\n",
    "from pandas import Series, DataFrame"
   ]
  },
  {
   "cell_type": "code",
   "execution_count": 122,
   "metadata": {
    "collapsed": false
   },
   "outputs": [],
   "source": [
    "DF = pd.read_csv('../InOrbit_Dec15/reparsed_logs/scen201/uelog_4457809c4801.csv')"
   ]
  },
  {
   "cell_type": "markdown",
   "metadata": {},
   "source": [
    "===== remove unwanted columns ====="
   ]
  },
  {
   "cell_type": "code",
   "execution_count": 65,
   "metadata": {
    "collapsed": false
   },
   "outputs": [],
   "source": [
    "pf = DF.drop(DF.columns[[4,5,6,7,8,9,10,11,12,13,14,15,16,17,18,19,20]],axis=1)"
   ]
  },
  {
   "cell_type": "markdown",
   "metadata": {},
   "source": [
    "===== removes rows not containing RSRPs ====="
   ]
  },
  {
   "cell_type": "code",
   "execution_count": 66,
   "metadata": {
    "collapsed": false
   },
   "outputs": [],
   "source": [
    "pf = pf[pd.notnull(pf['RSRP'])]"
   ]
  },
  {
   "cell_type": "markdown",
   "metadata": {},
   "source": [
    "===== check the data type of entry ====="
   ]
  },
  {
   "cell_type": "code",
   "execution_count": 72,
   "metadata": {
    "collapsed": false
   },
   "outputs": [
    {
     "data": {
      "text/plain": [
       "2    75142610569217\n",
       "Name: cellID, dtype: int64"
      ]
     },
     "execution_count": 72,
     "metadata": {},
     "output_type": "execute_result"
    }
   ],
   "source": [
    "pf['cellID'][:1]"
   ]
  },
  {
   "cell_type": "markdown",
   "metadata": {},
   "source": [
    "===== change data type to int ===="
   ]
  },
  {
   "cell_type": "code",
   "execution_count": 116,
   "metadata": {
    "collapsed": false
   },
   "outputs": [
    {
     "data": {
      "text/html": [
       "<div style=\"max-height:1000px;max-width:1500px;overflow:auto;\">\n",
       "<table border=\"1\" class=\"dataframe\">\n",
       "  <thead>\n",
       "    <tr style=\"text-align: right;\">\n",
       "      <th></th>\n",
       "      <th>Time</th>\n",
       "      <th>UEID</th>\n",
       "      <th>cellID</th>\n",
       "      <th>RSRP</th>\n",
       "    </tr>\n",
       "  </thead>\n",
       "  <tbody>\n",
       "    <tr>\n",
       "      <th>2 </th>\n",
       "      <td> 2015-12-15 09:47:00.049</td>\n",
       "      <td> 162</td>\n",
       "      <td> 75142610569217</td>\n",
       "      <td> 59</td>\n",
       "    </tr>\n",
       "    <tr>\n",
       "      <th>3 </th>\n",
       "      <td> 2015-12-15 09:47:00.049</td>\n",
       "      <td> 162</td>\n",
       "      <td> 75142601070864</td>\n",
       "      <td> 59</td>\n",
       "    </tr>\n",
       "    <tr>\n",
       "      <th>4 </th>\n",
       "      <td> 2015-12-15 09:47:00.049</td>\n",
       "      <td> 162</td>\n",
       "      <td> 75142601070866</td>\n",
       "      <td> 54</td>\n",
       "    </tr>\n",
       "    <tr>\n",
       "      <th>5 </th>\n",
       "      <td> 2015-12-15 09:47:00.049</td>\n",
       "      <td> 162</td>\n",
       "      <td> 75142610569473</td>\n",
       "      <td> 51</td>\n",
       "    </tr>\n",
       "    <tr>\n",
       "      <th>17</th>\n",
       "      <td> 2015-12-15 09:47:01.050</td>\n",
       "      <td> 162</td>\n",
       "      <td> 75142610569217</td>\n",
       "      <td> 60</td>\n",
       "    </tr>\n",
       "  </tbody>\n",
       "</table>\n",
       "</div>"
      ],
      "text/plain": [
       "                       Time  UEID          cellID  RSRP\n",
       "2   2015-12-15 09:47:00.049   162  75142610569217    59\n",
       "3   2015-12-15 09:47:00.049   162  75142601070864    59\n",
       "4   2015-12-15 09:47:00.049   162  75142601070866    54\n",
       "5   2015-12-15 09:47:00.049   162  75142610569473    51\n",
       "17  2015-12-15 09:47:01.050   162  75142610569217    60"
      ]
     },
     "execution_count": 116,
     "metadata": {},
     "output_type": "execute_result"
    }
   ],
   "source": [
    "pf[['cellID','RSRP']] = pf[['cellID','RSRP']].astype(int)\n",
    "pf.head()"
   ]
  },
  {
   "cell_type": "markdown",
   "metadata": {},
   "source": [
    "#### selecting data by interger indexing\n",
    "> * .iloc to explicity support only integer indexing, \n",
    "> * .loc to explicity support only label indexing"
   ]
  },
  {
   "cell_type": "code",
   "execution_count": null,
   "metadata": {
    "collapsed": true
   },
   "outputs": [],
   "source": [
    "pf.iloc[[2]]"
   ]
  },
  {
   "cell_type": "code",
   "execution_count": null,
   "metadata": {
    "collapsed": true
   },
   "outputs": [],
   "source": [
    "pf.loc[[2]]"
   ]
  },
  {
   "cell_type": "markdown",
   "metadata": {},
   "source": [
    "===== groupby ====="
   ]
  },
  {
   "cell_type": "code",
   "execution_count": 117,
   "metadata": {
    "collapsed": false
   },
   "outputs": [],
   "source": [
    "group1 = pf.groupby(['UEID','cellID'])"
   ]
  },
  {
   "cell_type": "markdown",
   "metadata": {},
   "source": [
    "===== How to get each groupby iterator by key ====="
   ]
  },
  {
   "cell_type": "code",
   "execution_count": 228,
   "metadata": {
    "collapsed": false
   },
   "outputs": [
    {
     "data": {
      "text/plain": [
       "[(162, 75142601070864),\n",
       " (162, 75142601070866),\n",
       " (214, 75142610569729),\n",
       " (206, 75142601070866),\n",
       " (206, 75142610569729),\n",
       " (162, 75142610569729),\n",
       " (214, 75142601070864),\n",
       " (206, 75142610569217),\n",
       " (162, 75142610569217),\n",
       " (162, 75142610569473),\n",
       " (214, 75142601070866),\n",
       " (214, 75142610569217),\n",
       " (214, 75142610569473)]"
      ]
     },
     "execution_count": 228,
     "metadata": {},
     "output_type": "execute_result"
    }
   ],
   "source": [
    "dict(list(group1)).keys()"
   ]
  },
  {
   "cell_type": "code",
   "execution_count": 218,
   "metadata": {
    "collapsed": false
   },
   "outputs": [
    {
     "data": {
      "text/html": [
       "<div style=\"max-height:1000px;max-width:1500px;overflow:auto;\">\n",
       "<table border=\"1\" class=\"dataframe\">\n",
       "  <thead>\n",
       "    <tr style=\"text-align: right;\">\n",
       "      <th></th>\n",
       "      <th>Time</th>\n",
       "      <th>UEID</th>\n",
       "      <th>cellID</th>\n",
       "      <th>RSRP</th>\n",
       "    </tr>\n",
       "  </thead>\n",
       "  <tbody>\n",
       "    <tr>\n",
       "      <th>3 </th>\n",
       "      <td> 2015-12-15 09:47:00.049</td>\n",
       "      <td> 162</td>\n",
       "      <td> 75142601070864</td>\n",
       "      <td> 59</td>\n",
       "    </tr>\n",
       "    <tr>\n",
       "      <th>18</th>\n",
       "      <td> 2015-12-15 09:47:01.050</td>\n",
       "      <td> 162</td>\n",
       "      <td> 75142601070864</td>\n",
       "      <td> 59</td>\n",
       "    </tr>\n",
       "    <tr>\n",
       "      <th>33</th>\n",
       "      <td> 2015-12-15 09:47:02.250</td>\n",
       "      <td> 162</td>\n",
       "      <td> 75142601070864</td>\n",
       "      <td> 59</td>\n",
       "    </tr>\n",
       "    <tr>\n",
       "      <th>44</th>\n",
       "      <td> 2015-12-15 09:47:03.250</td>\n",
       "      <td> 162</td>\n",
       "      <td> 75142601070864</td>\n",
       "      <td> 58</td>\n",
       "    </tr>\n",
       "    <tr>\n",
       "      <th>60</th>\n",
       "      <td> 2015-12-15 09:47:04.251</td>\n",
       "      <td> 162</td>\n",
       "      <td> 75142601070864</td>\n",
       "      <td> 59</td>\n",
       "    </tr>\n",
       "  </tbody>\n",
       "</table>\n",
       "</div>"
      ],
      "text/plain": [
       "                       Time  UEID          cellID  RSRP\n",
       "3   2015-12-15 09:47:00.049   162  75142601070864    59\n",
       "18  2015-12-15 09:47:01.050   162  75142601070864    59\n",
       "33  2015-12-15 09:47:02.250   162  75142601070864    59\n",
       "44  2015-12-15 09:47:03.250   162  75142601070864    58\n",
       "60  2015-12-15 09:47:04.251   162  75142601070864    59"
      ]
     },
     "execution_count": 218,
     "metadata": {},
     "output_type": "execute_result"
    }
   ],
   "source": [
    "group1.get_group((162, 75142601070864)).head()"
   ]
  },
  {
   "cell_type": "code",
   "execution_count": 223,
   "metadata": {
    "collapsed": false
   },
   "outputs": [
    {
     "data": {
      "text/html": [
       "<div style=\"max-height:1000px;max-width:1500px;overflow:auto;\">\n",
       "<table border=\"1\" class=\"dataframe\">\n",
       "  <thead>\n",
       "    <tr style=\"text-align: right;\">\n",
       "      <th></th>\n",
       "      <th>Time</th>\n",
       "      <th>UEID</th>\n",
       "      <th>cellID</th>\n",
       "      <th>RSRP</th>\n",
       "    </tr>\n",
       "  </thead>\n",
       "  <tbody>\n",
       "    <tr>\n",
       "      <th>3 </th>\n",
       "      <td> 2015-12-15 09:47:00.049</td>\n",
       "      <td> 162</td>\n",
       "      <td> 75142601070864</td>\n",
       "      <td> 59</td>\n",
       "    </tr>\n",
       "    <tr>\n",
       "      <th>18</th>\n",
       "      <td> 2015-12-15 09:47:01.050</td>\n",
       "      <td> 162</td>\n",
       "      <td> 75142601070864</td>\n",
       "      <td> 59</td>\n",
       "    </tr>\n",
       "    <tr>\n",
       "      <th>33</th>\n",
       "      <td> 2015-12-15 09:47:02.250</td>\n",
       "      <td> 162</td>\n",
       "      <td> 75142601070864</td>\n",
       "      <td> 59</td>\n",
       "    </tr>\n",
       "    <tr>\n",
       "      <th>44</th>\n",
       "      <td> 2015-12-15 09:47:03.250</td>\n",
       "      <td> 162</td>\n",
       "      <td> 75142601070864</td>\n",
       "      <td> 58</td>\n",
       "    </tr>\n",
       "    <tr>\n",
       "      <th>60</th>\n",
       "      <td> 2015-12-15 09:47:04.251</td>\n",
       "      <td> 162</td>\n",
       "      <td> 75142601070864</td>\n",
       "      <td> 59</td>\n",
       "    </tr>\n",
       "  </tbody>\n",
       "</table>\n",
       "</div>"
      ],
      "text/plain": [
       "                       Time  UEID          cellID  RSRP\n",
       "3   2015-12-15 09:47:00.049   162  75142601070864    59\n",
       "18  2015-12-15 09:47:01.050   162  75142601070864    59\n",
       "33  2015-12-15 09:47:02.250   162  75142601070864    59\n",
       "44  2015-12-15 09:47:03.250   162  75142601070864    58\n",
       "60  2015-12-15 09:47:04.251   162  75142601070864    59"
      ]
     },
     "execution_count": 223,
     "metadata": {},
     "output_type": "execute_result"
    }
   ],
   "source": [
    "pf.loc[group1.groups[(162, 75142601070864)]].head()"
   ]
  },
  {
   "cell_type": "markdown",
   "metadata": {},
   "source": [
    "===== get each group as a DataFrame in a loop ===== "
   ]
  },
  {
   "cell_type": "code",
   "execution_count": 229,
   "metadata": {
    "collapsed": false
   },
   "outputs": [
    {
     "name": "stdout",
     "output_type": "stream",
     "text": [
      "this is the (162,75142601070864) group\n",
      "count    87.000000\n",
      "mean     58.724138\n",
      "std       0.710219\n",
      "min      56.000000\n",
      "25%      58.000000\n",
      "50%      59.000000\n",
      "75%      59.000000\n",
      "max      60.000000\n",
      "Name: RSRP, dtype: float64\n",
      "\n",
      "\n",
      "this is the (162,75142601070866) group\n",
      "count    76.000000\n",
      "mean     56.434211\n",
      "std       0.997805\n",
      "min      54.000000\n",
      "25%      56.000000\n",
      "50%      57.000000\n",
      "75%      57.000000\n",
      "max      58.000000\n",
      "Name: RSRP, dtype: float64\n",
      "\n",
      "\n",
      "this is the (162,75142610569217) group\n",
      "count    87.000000\n",
      "mean     59.448276\n",
      "std       0.924582\n",
      "min      56.000000\n",
      "25%      59.000000\n",
      "50%      60.000000\n",
      "75%      60.000000\n",
      "max      61.000000\n",
      "Name: RSRP, dtype: float64\n",
      "\n",
      "\n",
      "this is the (162,75142610569473) group\n",
      "count    35.000000\n",
      "mean     51.457143\n",
      "std       0.980482\n",
      "min      50.000000\n",
      "25%      51.000000\n",
      "50%      51.000000\n",
      "75%      52.000000\n",
      "max      54.000000\n",
      "Name: RSRP, dtype: float64\n",
      "\n",
      "\n",
      "this is the (162,75142610569729) group\n",
      "count    57.000000\n",
      "mean     49.175439\n",
      "std       1.351227\n",
      "min      46.000000\n",
      "25%      49.000000\n",
      "50%      49.000000\n",
      "75%      50.000000\n",
      "max      54.000000\n",
      "Name: RSRP, dtype: float64\n",
      "\n",
      "\n",
      "this is the (206,75142601070866) group\n",
      "count    143.000000\n",
      "mean      53.097902\n",
      "std        3.938461\n",
      "min       45.000000\n",
      "25%       49.500000\n",
      "50%       55.000000\n",
      "75%       56.000000\n",
      "max       57.000000\n",
      "Name: RSRP, dtype: float64\n",
      "\n",
      "\n",
      "this is the (206,75142610569217) group\n",
      "count    147.000000\n",
      "mean      52.557823\n",
      "std        2.548514\n",
      "min       47.000000\n",
      "25%       50.000000\n",
      "50%       54.000000\n",
      "75%       55.000000\n",
      "max       56.000000\n",
      "Name: RSRP, dtype: float64\n",
      "\n",
      "\n",
      "this is the (206,75142610569729) group\n",
      "count    146.000000\n",
      "mean      49.993151\n",
      "std        1.341623\n",
      "min       47.000000\n",
      "25%       49.000000\n",
      "50%       50.000000\n",
      "75%       51.000000\n",
      "max       53.000000\n",
      "Name: RSRP, dtype: float64\n",
      "\n",
      "\n",
      "this is the (214,75142601070864) group\n",
      "count    87.000000\n",
      "mean     59.275862\n",
      "std       0.710219\n",
      "min      57.000000\n",
      "25%      59.000000\n",
      "50%      59.000000\n",
      "75%      60.000000\n",
      "max      61.000000\n",
      "Name: RSRP, dtype: float64\n",
      "\n",
      "\n",
      "this is the (214,75142601070866) group\n",
      "count    61.000000\n",
      "mean     56.918033\n",
      "std       1.099925\n",
      "min      54.000000\n",
      "25%      56.000000\n",
      "50%      57.000000\n",
      "75%      58.000000\n",
      "max      59.000000\n",
      "Name: RSRP, dtype: float64\n",
      "\n",
      "\n",
      "this is the (214,75142610569217) group\n",
      "count    89.000000\n",
      "mean     58.674157\n",
      "std       0.997443\n",
      "min      57.000000\n",
      "25%      58.000000\n",
      "50%      58.000000\n",
      "75%      59.000000\n",
      "max      62.000000\n",
      "Name: RSRP, dtype: float64\n",
      "\n",
      "\n",
      "this is the (214,75142610569473) group\n",
      "count     8.000000\n",
      "mean     52.000000\n",
      "std       1.195229\n",
      "min      50.000000\n",
      "25%      51.750000\n",
      "50%      52.000000\n",
      "75%      52.250000\n",
      "max      54.000000\n",
      "Name: RSRP, dtype: float64\n",
      "\n",
      "\n",
      "this is the (214,75142610569729) group\n",
      "count    54.000000\n",
      "mean     49.962963\n",
      "std       0.989815\n",
      "min      48.000000\n",
      "25%      49.000000\n",
      "50%      50.000000\n",
      "75%      50.000000\n",
      "max      53.000000\n",
      "Name: RSRP, dtype: float64\n",
      "\n",
      "\n"
     ]
    }
   ],
   "source": [
    "for (ue,cell), group in group1:\n",
    "    print 'this is the (%s,%s) group' %(ue,cell)\n",
    "    print group['RSRP'].describe()\n",
    "    print '\\n'"
   ]
  },
  {
   "cell_type": "code",
   "execution_count": 219,
   "metadata": {
    "collapsed": false
   },
   "outputs": [
    {
     "data": {
      "text/html": [
       "<div style=\"max-height:1000px;max-width:1500px;overflow:auto;\">\n",
       "<table border=\"1\" class=\"dataframe\">\n",
       "  <thead>\n",
       "    <tr style=\"text-align: right;\">\n",
       "      <th></th>\n",
       "      <th>Time</th>\n",
       "      <th>UEID</th>\n",
       "      <th>cellID</th>\n",
       "      <th>RSRP</th>\n",
       "    </tr>\n",
       "  </thead>\n",
       "  <tbody>\n",
       "    <tr>\n",
       "      <th>2077</th>\n",
       "      <td> 2015-12-15 09:48:49.738</td>\n",
       "      <td> 214</td>\n",
       "      <td> 75142610569729</td>\n",
       "      <td> 53</td>\n",
       "    </tr>\n",
       "    <tr>\n",
       "      <th>2492</th>\n",
       "      <td> 2015-12-15 09:49:10.346</td>\n",
       "      <td> 214</td>\n",
       "      <td> 75142610569729</td>\n",
       "      <td> 50</td>\n",
       "    </tr>\n",
       "    <tr>\n",
       "      <th>3819</th>\n",
       "      <td> 2015-12-15 09:50:11.772</td>\n",
       "      <td> 214</td>\n",
       "      <td> 75142610569729</td>\n",
       "      <td> 52</td>\n",
       "    </tr>\n",
       "    <tr>\n",
       "      <th>4000</th>\n",
       "      <td> 2015-12-15 09:50:21.977</td>\n",
       "      <td> 214</td>\n",
       "      <td> 75142610569729</td>\n",
       "      <td> 52</td>\n",
       "    </tr>\n",
       "    <tr>\n",
       "      <th>4228</th>\n",
       "      <td> 2015-12-15 09:50:32.181</td>\n",
       "      <td> 214</td>\n",
       "      <td> 75142610569729</td>\n",
       "      <td> 49</td>\n",
       "    </tr>\n",
       "  </tbody>\n",
       "</table>\n",
       "</div>"
      ],
      "text/plain": [
       "                         Time  UEID          cellID  RSRP\n",
       "2077  2015-12-15 09:48:49.738   214  75142610569729    53\n",
       "2492  2015-12-15 09:49:10.346   214  75142610569729    50\n",
       "3819  2015-12-15 09:50:11.772   214  75142610569729    52\n",
       "4000  2015-12-15 09:50:21.977   214  75142610569729    52\n",
       "4228  2015-12-15 09:50:32.181   214  75142610569729    49"
      ]
     },
     "execution_count": 219,
     "metadata": {},
     "output_type": "execute_result"
    }
   ],
   "source": [
    "group.head()"
   ]
  },
  {
   "cell_type": "code",
   "execution_count": 213,
   "metadata": {
    "collapsed": false
   },
   "outputs": [
    {
     "data": {
      "text/html": [
       "<div style=\"max-height:1000px;max-width:1500px;overflow:auto;\">\n",
       "<table border=\"1\" class=\"dataframe\">\n",
       "  <thead>\n",
       "    <tr style=\"text-align: right;\">\n",
       "      <th></th>\n",
       "      <th>index</th>\n",
       "      <th>Time</th>\n",
       "      <th>UEID</th>\n",
       "      <th>cellID</th>\n",
       "      <th>RSRP</th>\n",
       "    </tr>\n",
       "  </thead>\n",
       "  <tbody>\n",
       "    <tr>\n",
       "      <th>0</th>\n",
       "      <td> 2077</td>\n",
       "      <td> 2015-12-15 09:48:49.738</td>\n",
       "      <td> 214</td>\n",
       "      <td> 75142610569729</td>\n",
       "      <td> 53</td>\n",
       "    </tr>\n",
       "    <tr>\n",
       "      <th>1</th>\n",
       "      <td> 2492</td>\n",
       "      <td> 2015-12-15 09:49:10.346</td>\n",
       "      <td> 214</td>\n",
       "      <td> 75142610569729</td>\n",
       "      <td> 50</td>\n",
       "    </tr>\n",
       "    <tr>\n",
       "      <th>2</th>\n",
       "      <td> 3819</td>\n",
       "      <td> 2015-12-15 09:50:11.772</td>\n",
       "      <td> 214</td>\n",
       "      <td> 75142610569729</td>\n",
       "      <td> 52</td>\n",
       "    </tr>\n",
       "    <tr>\n",
       "      <th>3</th>\n",
       "      <td> 4000</td>\n",
       "      <td> 2015-12-15 09:50:21.977</td>\n",
       "      <td> 214</td>\n",
       "      <td> 75142610569729</td>\n",
       "      <td> 52</td>\n",
       "    </tr>\n",
       "    <tr>\n",
       "      <th>4</th>\n",
       "      <td> 4228</td>\n",
       "      <td> 2015-12-15 09:50:32.181</td>\n",
       "      <td> 214</td>\n",
       "      <td> 75142610569729</td>\n",
       "      <td> 49</td>\n",
       "    </tr>\n",
       "  </tbody>\n",
       "</table>\n",
       "</div>"
      ],
      "text/plain": [
       "   index                     Time  UEID          cellID  RSRP\n",
       "0   2077  2015-12-15 09:48:49.738   214  75142610569729    53\n",
       "1   2492  2015-12-15 09:49:10.346   214  75142610569729    50\n",
       "2   3819  2015-12-15 09:50:11.772   214  75142610569729    52\n",
       "3   4000  2015-12-15 09:50:21.977   214  75142610569729    52\n",
       "4   4228  2015-12-15 09:50:32.181   214  75142610569729    49"
      ]
     },
     "execution_count": 213,
     "metadata": {},
     "output_type": "execute_result"
    }
   ],
   "source": [
    "group.reset_index().head()"
   ]
  },
  {
   "cell_type": "markdown",
   "metadata": {},
   "source": [
    "===== Apply a function : output a DataFrame ====="
   ]
  },
  {
   "cell_type": "code",
   "execution_count": 121,
   "metadata": {
    "collapsed": false
   },
   "outputs": [
    {
     "data": {
      "text/html": [
       "<div style=\"max-height:1000px;max-width:1500px;overflow:auto;\">\n",
       "<table border=\"1\" class=\"dataframe\">\n",
       "  <thead>\n",
       "    <tr style=\"text-align: right;\">\n",
       "      <th></th>\n",
       "      <th></th>\n",
       "      <th>RSRP</th>\n",
       "    </tr>\n",
       "    <tr>\n",
       "      <th>UEID</th>\n",
       "      <th>cellID</th>\n",
       "      <th></th>\n",
       "    </tr>\n",
       "  </thead>\n",
       "  <tbody>\n",
       "    <tr>\n",
       "      <th rowspan=\"5\" valign=\"top\">162</th>\n",
       "      <th>75142601070864</th>\n",
       "      <td> 58.724138</td>\n",
       "    </tr>\n",
       "    <tr>\n",
       "      <th>75142601070866</th>\n",
       "      <td> 56.434211</td>\n",
       "    </tr>\n",
       "    <tr>\n",
       "      <th>75142610569217</th>\n",
       "      <td> 59.448276</td>\n",
       "    </tr>\n",
       "    <tr>\n",
       "      <th>75142610569473</th>\n",
       "      <td> 51.457143</td>\n",
       "    </tr>\n",
       "    <tr>\n",
       "      <th>75142610569729</th>\n",
       "      <td> 49.175439</td>\n",
       "    </tr>\n",
       "    <tr>\n",
       "      <th rowspan=\"3\" valign=\"top\">206</th>\n",
       "      <th>75142601070866</th>\n",
       "      <td> 53.097902</td>\n",
       "    </tr>\n",
       "    <tr>\n",
       "      <th>75142610569217</th>\n",
       "      <td> 52.557823</td>\n",
       "    </tr>\n",
       "    <tr>\n",
       "      <th>75142610569729</th>\n",
       "      <td> 49.993151</td>\n",
       "    </tr>\n",
       "    <tr>\n",
       "      <th rowspan=\"5\" valign=\"top\">214</th>\n",
       "      <th>75142601070864</th>\n",
       "      <td> 59.275862</td>\n",
       "    </tr>\n",
       "    <tr>\n",
       "      <th>75142601070866</th>\n",
       "      <td> 56.918033</td>\n",
       "    </tr>\n",
       "    <tr>\n",
       "      <th>75142610569217</th>\n",
       "      <td> 58.674157</td>\n",
       "    </tr>\n",
       "    <tr>\n",
       "      <th>75142610569473</th>\n",
       "      <td> 52.000000</td>\n",
       "    </tr>\n",
       "    <tr>\n",
       "      <th>75142610569729</th>\n",
       "      <td> 49.962963</td>\n",
       "    </tr>\n",
       "  </tbody>\n",
       "</table>\n",
       "</div>"
      ],
      "text/plain": [
       "                          RSRP\n",
       "UEID cellID                   \n",
       "162  75142601070864  58.724138\n",
       "     75142601070866  56.434211\n",
       "     75142610569217  59.448276\n",
       "     75142610569473  51.457143\n",
       "     75142610569729  49.175439\n",
       "206  75142601070866  53.097902\n",
       "     75142610569217  52.557823\n",
       "     75142610569729  49.993151\n",
       "214  75142601070864  59.275862\n",
       "     75142601070866  56.918033\n",
       "     75142610569217  58.674157\n",
       "     75142610569473  52.000000\n",
       "     75142610569729  49.962963"
      ]
     },
     "execution_count": 121,
     "metadata": {},
     "output_type": "execute_result"
    }
   ],
   "source": [
    "group1.mean()"
   ]
  },
  {
   "cell_type": "markdown",
   "metadata": {},
   "source": [
    "===== convert to a Dict ===== "
   ]
  },
  {
   "cell_type": "code",
   "execution_count": 89,
   "metadata": {
    "collapsed": false
   },
   "outputs": [
    {
     "data": {
      "text/plain": [
       "count    87.000000\n",
       "mean     58.724138\n",
       "std       0.710219\n",
       "min      56.000000\n",
       "25%      58.000000\n",
       "50%      59.000000\n",
       "75%      59.000000\n",
       "max      60.000000\n",
       "Name: RSRP, dtype: float64"
      ]
     },
     "execution_count": 89,
     "metadata": {},
     "output_type": "execute_result"
    }
   ],
   "source": [
    "dG1 = dict(list(group1))\n",
    "dG1[(162, 75142601070864)].RSRP.describe()"
   ]
  },
  {
   "cell_type": "markdown",
   "metadata": {},
   "source": [
    "===== groupby a Series or part of the DataFrame ====="
   ]
  },
  {
   "cell_type": "code",
   "execution_count": 111,
   "metadata": {
    "collapsed": false
   },
   "outputs": [
    {
     "data": {
      "text/plain": [
       "[(162, 75142601070864),\n",
       " (162, 75142601070866),\n",
       " (162, 75142610569217),\n",
       " (162, 75142610569473),\n",
       " (162, 75142610569729),\n",
       " (206, 75142601070866),\n",
       " (206, 75142610569217),\n",
       " (206, 75142610569729),\n",
       " (214, 75142601070864),\n",
       " (214, 75142601070866),\n",
       " (214, 75142610569217),\n",
       " (214, 75142610569473),\n",
       " (214, 75142610569729)]"
      ]
     },
     "execution_count": 111,
     "metadata": {},
     "output_type": "execute_result"
    }
   ],
   "source": [
    "grprsrp = pf['RSRP'].groupby([pf['UEID'],pf['cellID']])\n",
    "sorted(dict(list(grprsrp)).keys())"
   ]
  },
  {
   "cell_type": "code",
   "execution_count": 230,
   "metadata": {
    "collapsed": false
   },
   "outputs": [
    {
     "data": {
      "text/plain": [
       "<pandas.core.groupby.SeriesGroupBy object at 0x7f8be6eb6510>"
      ]
     },
     "execution_count": 230,
     "metadata": {},
     "output_type": "execute_result"
    }
   ],
   "source": [
    "pf['RSRP'].groupby([pf['UEID'],pf['cellID']])"
   ]
  },
  {
   "cell_type": "markdown",
   "metadata": {},
   "source": [
    "===== output a Series or DataFrame by key ====="
   ]
  },
  {
   "cell_type": "code",
   "execution_count": 115,
   "metadata": {
    "collapsed": false
   },
   "outputs": [
    {
     "data": {
      "text/plain": [
       "2     59\n",
       "17    60\n",
       "32    60\n",
       "43    60\n",
       "Name: RSRP, dtype: int64"
      ]
     },
     "execution_count": 115,
     "metadata": {},
     "output_type": "execute_result"
    }
   ],
   "source": [
    "dict(list(grprsrp))[(162, 75142610569217)][:4]"
   ]
  },
  {
   "cell_type": "code",
   "execution_count": 171,
   "metadata": {
    "collapsed": false
   },
   "outputs": [
    {
     "data": {
      "text/plain": [
       "Index([u'Time', u'UEID', u'cellID', u'RSRP', u'sbcqi0', u'sbcqi1', u'sbcqi2', u'sbcqi3', u'sbcqi4', u'sbcqi5', u'sbcqi6', u'sbcqi7', u'sbcqi8', u'sbcqi9', u'sbcqi10', u'sbcqi11', u'sbcqi12', u'wbcqi', u'RI', u'TM', u'isedgeUE'], dtype='object')"
      ]
     },
     "execution_count": 171,
     "metadata": {},
     "output_type": "execute_result"
    }
   ],
   "source": [
    "DF.columns"
   ]
  },
  {
   "cell_type": "markdown",
   "metadata": {},
   "source": [
    "===== the above cases are grouped by rows, here is how to group by columns ====="
   ]
  },
  {
   "cell_type": "code",
   "execution_count": 178,
   "metadata": {
    "collapsed": false
   },
   "outputs": [
    {
     "data": {
      "text/html": [
       "<div style=\"max-height:1000px;max-width:1500px;overflow:auto;\">\n",
       "<table border=\"1\" class=\"dataframe\">\n",
       "  <thead>\n",
       "    <tr style=\"text-align: right;\">\n",
       "      <th></th>\n",
       "      <th>sbcqi</th>\n",
       "      <th>time</th>\n",
       "      <th>ueID</th>\n",
       "      <th>wbcqi</th>\n",
       "    </tr>\n",
       "  </thead>\n",
       "  <tbody>\n",
       "    <tr>\n",
       "      <th>0</th>\n",
       "      <td> 171</td>\n",
       "      <td> 2015-12-15 09:47:00.049</td>\n",
       "      <td> 198</td>\n",
       "      <td> 13</td>\n",
       "    </tr>\n",
       "    <tr>\n",
       "      <th>1</th>\n",
       "      <td> 102</td>\n",
       "      <td> 2015-12-15 09:47:00.049</td>\n",
       "      <td> 162</td>\n",
       "      <td>  8</td>\n",
       "    </tr>\n",
       "    <tr>\n",
       "      <th>6</th>\n",
       "      <td> 172</td>\n",
       "      <td> 2015-12-15 09:47:00.250</td>\n",
       "      <td> 198</td>\n",
       "      <td> 13</td>\n",
       "    </tr>\n",
       "    <tr>\n",
       "      <th>7</th>\n",
       "      <td> 101</td>\n",
       "      <td> 2015-12-15 09:47:00.250</td>\n",
       "      <td> 162</td>\n",
       "      <td>  8</td>\n",
       "    </tr>\n",
       "    <tr>\n",
       "      <th>8</th>\n",
       "      <td> 172</td>\n",
       "      <td> 2015-12-15 09:47:00.250</td>\n",
       "      <td> 198</td>\n",
       "      <td> 13</td>\n",
       "    </tr>\n",
       "  </tbody>\n",
       "</table>\n",
       "</div>"
      ],
      "text/plain": [
       "   sbcqi                     time  ueID  wbcqi\n",
       "0    171  2015-12-15 09:47:00.049   198     13\n",
       "1    102  2015-12-15 09:47:00.049   162      8\n",
       "6    172  2015-12-15 09:47:00.250   198     13\n",
       "7    101  2015-12-15 09:47:00.250   162      8\n",
       "8    172  2015-12-15 09:47:00.250   198     13"
      ]
     },
     "execution_count": 178,
     "metadata": {},
     "output_type": "execute_result"
    }
   ],
   "source": [
    "dfsbcqi = pd.DataFrame(DF[DF.columns[[0,1,4,5,6,7,8,9,10,11,12,13,14,15,16,17]]])\n",
    "dfsbcqi = dfsbcqi[pd.notnull(dfsbcqi.sbcqi0)]\n",
    "group_map = {'Time':'time','UEID':'ueID','sbcqi0': 'sbcqi','sbcqi1': 'sbcqi','sbcqi2': 'sbcqi','sbcqi3': 'sbcqi',\n",
    "             'sbcqi4': 'sbcqi','sbcqi5': 'sbcqi','sbcqi6': 'sbcqi','sbcqi7': 'sbcqi',\n",
    "            'sbcqi8': 'sbcqi','sbcqi9': 'sbcqi','sbcqi10': 'sbcqi','sbcqi11': 'sbcqi',\n",
    "            'sbcqi12': 'sbcqi','wbcqi': 'wbcqi',}\n",
    "grpcqi = dfsbcqi.groupby(group_map,axis=1)\n",
    "grpcqi.sum().head()"
   ]
  },
  {
   "cell_type": "markdown",
   "metadata": {},
   "source": [
    "===== aggregation ====="
   ]
  },
  {
   "cell_type": "code",
   "execution_count": 184,
   "metadata": {
    "collapsed": false
   },
   "outputs": [
    {
     "data": {
      "text/html": [
       "<div style=\"max-height:1000px;max-width:1500px;overflow:auto;\">\n",
       "<table border=\"1\" class=\"dataframe\">\n",
       "  <thead>\n",
       "    <tr style=\"text-align: right;\">\n",
       "      <th></th>\n",
       "      <th></th>\n",
       "      <th>RSRP</th>\n",
       "    </tr>\n",
       "    <tr>\n",
       "      <th>UEID</th>\n",
       "      <th>cellID</th>\n",
       "      <th></th>\n",
       "    </tr>\n",
       "  </thead>\n",
       "  <tbody>\n",
       "    <tr>\n",
       "      <th rowspan=\"5\" valign=\"top\">162</th>\n",
       "      <th>75142601070864</th>\n",
       "      <td>  4</td>\n",
       "    </tr>\n",
       "    <tr>\n",
       "      <th>75142601070866</th>\n",
       "      <td>  4</td>\n",
       "    </tr>\n",
       "    <tr>\n",
       "      <th>75142610569217</th>\n",
       "      <td>  5</td>\n",
       "    </tr>\n",
       "    <tr>\n",
       "      <th>75142610569473</th>\n",
       "      <td>  4</td>\n",
       "    </tr>\n",
       "    <tr>\n",
       "      <th>75142610569729</th>\n",
       "      <td>  8</td>\n",
       "    </tr>\n",
       "    <tr>\n",
       "      <th rowspan=\"3\" valign=\"top\">206</th>\n",
       "      <th>75142601070866</th>\n",
       "      <td> 12</td>\n",
       "    </tr>\n",
       "    <tr>\n",
       "      <th>75142610569217</th>\n",
       "      <td>  9</td>\n",
       "    </tr>\n",
       "    <tr>\n",
       "      <th>75142610569729</th>\n",
       "      <td>  6</td>\n",
       "    </tr>\n",
       "    <tr>\n",
       "      <th rowspan=\"5\" valign=\"top\">214</th>\n",
       "      <th>75142601070864</th>\n",
       "      <td>  4</td>\n",
       "    </tr>\n",
       "    <tr>\n",
       "      <th>75142601070866</th>\n",
       "      <td>  5</td>\n",
       "    </tr>\n",
       "    <tr>\n",
       "      <th>75142610569217</th>\n",
       "      <td>  5</td>\n",
       "    </tr>\n",
       "    <tr>\n",
       "      <th>75142610569473</th>\n",
       "      <td>  4</td>\n",
       "    </tr>\n",
       "    <tr>\n",
       "      <th>75142610569729</th>\n",
       "      <td>  5</td>\n",
       "    </tr>\n",
       "  </tbody>\n",
       "</table>\n",
       "</div>"
      ],
      "text/plain": [
       "                     RSRP\n",
       "UEID cellID              \n",
       "162  75142601070864     4\n",
       "     75142601070866     4\n",
       "     75142610569217     5\n",
       "     75142610569473     4\n",
       "     75142610569729     8\n",
       "206  75142601070866    12\n",
       "     75142610569217     9\n",
       "     75142610569729     6\n",
       "214  75142601070864     4\n",
       "     75142601070866     5\n",
       "     75142610569217     5\n",
       "     75142610569473     4\n",
       "     75142610569729     5"
      ]
     },
     "execution_count": 184,
     "metadata": {},
     "output_type": "execute_result"
    }
   ],
   "source": [
    "def max_min(arr):\n",
    "    return arr.max() - arr.min()\n",
    "\n",
    "group1.agg(max_min)"
   ]
  },
  {
   "cell_type": "markdown",
   "metadata": {},
   "source": [
    "===== pivot table ====="
   ]
  },
  {
   "cell_type": "code",
   "execution_count": 194,
   "metadata": {
    "collapsed": false
   },
   "outputs": [
    {
     "data": {
      "text/html": [
       "<div style=\"max-height:1000px;max-width:1500px;overflow:auto;\">\n",
       "<table border=\"1\" class=\"dataframe\">\n",
       "  <thead>\n",
       "    <tr style=\"text-align: right;\">\n",
       "      <th></th>\n",
       "      <th></th>\n",
       "      <th>RSRP</th>\n",
       "    </tr>\n",
       "    <tr>\n",
       "      <th>UEID</th>\n",
       "      <th>cellID</th>\n",
       "      <th></th>\n",
       "    </tr>\n",
       "  </thead>\n",
       "  <tbody>\n",
       "    <tr>\n",
       "      <th rowspan=\"5\" valign=\"top\">162</th>\n",
       "      <th>75142601070864</th>\n",
       "      <td> 58.724138</td>\n",
       "    </tr>\n",
       "    <tr>\n",
       "      <th>75142601070866</th>\n",
       "      <td> 56.434211</td>\n",
       "    </tr>\n",
       "    <tr>\n",
       "      <th>75142610569217</th>\n",
       "      <td> 59.448276</td>\n",
       "    </tr>\n",
       "    <tr>\n",
       "      <th>75142610569473</th>\n",
       "      <td> 51.457143</td>\n",
       "    </tr>\n",
       "    <tr>\n",
       "      <th>75142610569729</th>\n",
       "      <td> 49.175439</td>\n",
       "    </tr>\n",
       "    <tr>\n",
       "      <th rowspan=\"3\" valign=\"top\">206</th>\n",
       "      <th>75142601070866</th>\n",
       "      <td> 53.097902</td>\n",
       "    </tr>\n",
       "    <tr>\n",
       "      <th>75142610569217</th>\n",
       "      <td> 52.557823</td>\n",
       "    </tr>\n",
       "    <tr>\n",
       "      <th>75142610569729</th>\n",
       "      <td> 49.993151</td>\n",
       "    </tr>\n",
       "    <tr>\n",
       "      <th rowspan=\"5\" valign=\"top\">214</th>\n",
       "      <th>75142601070864</th>\n",
       "      <td> 59.275862</td>\n",
       "    </tr>\n",
       "    <tr>\n",
       "      <th>75142601070866</th>\n",
       "      <td> 56.918033</td>\n",
       "    </tr>\n",
       "    <tr>\n",
       "      <th>75142610569217</th>\n",
       "      <td> 58.674157</td>\n",
       "    </tr>\n",
       "    <tr>\n",
       "      <th>75142610569473</th>\n",
       "      <td> 52.000000</td>\n",
       "    </tr>\n",
       "    <tr>\n",
       "      <th>75142610569729</th>\n",
       "      <td> 49.962963</td>\n",
       "    </tr>\n",
       "  </tbody>\n",
       "</table>\n",
       "</div>"
      ],
      "text/plain": [
       "                          RSRP\n",
       "UEID cellID                   \n",
       "162  75142601070864  58.724138\n",
       "     75142601070866  56.434211\n",
       "     75142610569217  59.448276\n",
       "     75142610569473  51.457143\n",
       "     75142610569729  49.175439\n",
       "206  75142601070866  53.097902\n",
       "     75142610569217  52.557823\n",
       "     75142610569729  49.993151\n",
       "214  75142601070864  59.275862\n",
       "     75142601070866  56.918033\n",
       "     75142610569217  58.674157\n",
       "     75142610569473  52.000000\n",
       "     75142610569729  49.962963"
      ]
     },
     "execution_count": 194,
     "metadata": {},
     "output_type": "execute_result"
    }
   ],
   "source": [
    "pvt = pf.pivot_table(index=['UEID', 'cellID'])\n",
    "pvt"
   ]
  },
  {
   "cell_type": "code",
   "execution_count": 195,
   "metadata": {
    "collapsed": false,
    "scrolled": true
   },
   "outputs": [
    {
     "data": {
      "text/html": [
       "<div style=\"max-height:1000px;max-width:1500px;overflow:auto;\">\n",
       "<table border=\"1\" class=\"dataframe\">\n",
       "  <thead>\n",
       "    <tr style=\"text-align: right;\">\n",
       "      <th></th>\n",
       "      <th>Time</th>\n",
       "      <th>UEID</th>\n",
       "      <th>cellID</th>\n",
       "      <th>RSRP</th>\n",
       "    </tr>\n",
       "  </thead>\n",
       "  <tbody>\n",
       "    <tr>\n",
       "      <th>2 </th>\n",
       "      <td> 2015-12-15 09:47:00.049</td>\n",
       "      <td> 162</td>\n",
       "      <td> 75142610569217</td>\n",
       "      <td> 59</td>\n",
       "    </tr>\n",
       "    <tr>\n",
       "      <th>3 </th>\n",
       "      <td> 2015-12-15 09:47:00.049</td>\n",
       "      <td> 162</td>\n",
       "      <td> 75142601070864</td>\n",
       "      <td> 59</td>\n",
       "    </tr>\n",
       "    <tr>\n",
       "      <th>4 </th>\n",
       "      <td> 2015-12-15 09:47:00.049</td>\n",
       "      <td> 162</td>\n",
       "      <td> 75142601070866</td>\n",
       "      <td> 54</td>\n",
       "    </tr>\n",
       "    <tr>\n",
       "      <th>5 </th>\n",
       "      <td> 2015-12-15 09:47:00.049</td>\n",
       "      <td> 162</td>\n",
       "      <td> 75142610569473</td>\n",
       "      <td> 51</td>\n",
       "    </tr>\n",
       "    <tr>\n",
       "      <th>17</th>\n",
       "      <td> 2015-12-15 09:47:01.050</td>\n",
       "      <td> 162</td>\n",
       "      <td> 75142610569217</td>\n",
       "      <td> 60</td>\n",
       "    </tr>\n",
       "  </tbody>\n",
       "</table>\n",
       "</div>"
      ],
      "text/plain": [
       "                       Time  UEID          cellID  RSRP\n",
       "2   2015-12-15 09:47:00.049   162  75142610569217    59\n",
       "3   2015-12-15 09:47:00.049   162  75142601070864    59\n",
       "4   2015-12-15 09:47:00.049   162  75142601070866    54\n",
       "5   2015-12-15 09:47:00.049   162  75142610569473    51\n",
       "17  2015-12-15 09:47:01.050   162  75142610569217    60"
      ]
     },
     "execution_count": 195,
     "metadata": {},
     "output_type": "execute_result"
    }
   ],
   "source": [
    "pf.head()"
   ]
  },
  {
   "cell_type": "markdown",
   "metadata": {},
   "source": [
    "===== pivot: cannot deal with duplicate entries; pf[:5] wouldn't work ====="
   ]
  },
  {
   "cell_type": "code",
   "execution_count": 201,
   "metadata": {
    "collapsed": false
   },
   "outputs": [
    {
     "data": {
      "text/html": [
       "<div style=\"max-height:1000px;max-width:1500px;overflow:auto;\">\n",
       "<table border=\"1\" class=\"dataframe\">\n",
       "  <thead>\n",
       "    <tr style=\"text-align: right;\">\n",
       "      <th>cellID</th>\n",
       "      <th>75142601070864</th>\n",
       "      <th>75142601070866</th>\n",
       "      <th>75142610569217</th>\n",
       "      <th>75142610569473</th>\n",
       "    </tr>\n",
       "    <tr>\n",
       "      <th>UEID</th>\n",
       "      <th></th>\n",
       "      <th></th>\n",
       "      <th></th>\n",
       "      <th></th>\n",
       "    </tr>\n",
       "  </thead>\n",
       "  <tbody>\n",
       "    <tr>\n",
       "      <th>162</th>\n",
       "      <td> 59</td>\n",
       "      <td> 54</td>\n",
       "      <td> 59</td>\n",
       "      <td> 51</td>\n",
       "    </tr>\n",
       "  </tbody>\n",
       "</table>\n",
       "</div>"
      ],
      "text/plain": [
       "cellID  75142601070864  75142601070866  75142610569217  75142610569473\n",
       "UEID                                                                  \n",
       "162                 59              54              59              51"
      ]
     },
     "execution_count": 201,
     "metadata": {},
     "output_type": "execute_result"
    }
   ],
   "source": [
    "pf[:4].pivot('UEID','cellID','RSRP')"
   ]
  },
  {
   "cell_type": "markdown",
   "metadata": {
    "collapsed": false
   },
   "source": [
    "### Merge() on multilevel indexings:\n",
    "####Examples"
   ]
  },
  {
   "cell_type": "code",
   "execution_count": 3,
   "metadata": {
    "collapsed": false
   },
   "outputs": [
    {
     "data": {
      "text/html": [
       "<div>\n",
       "<table border=\"1\" class=\"dataframe\">\n",
       "  <thead>\n",
       "    <tr>\n",
       "      <th></th>\n",
       "      <th colspan=\"3\" halign=\"left\">cell1</th>\n",
       "      <th colspan=\"3\" halign=\"left\">cell2</th>\n",
       "    </tr>\n",
       "    <tr>\n",
       "      <th></th>\n",
       "      <th>t</th>\n",
       "      <th>sb1</th>\n",
       "      <th>sb2</th>\n",
       "      <th>t</th>\n",
       "      <th>sb1</th>\n",
       "      <th>sb2</th>\n",
       "    </tr>\n",
       "  </thead>\n",
       "  <tbody>\n",
       "    <tr>\n",
       "      <th>0</th>\n",
       "      <td>1</td>\n",
       "      <td>3</td>\n",
       "      <td>7</td>\n",
       "      <td>NaN</td>\n",
       "      <td>NaN</td>\n",
       "      <td>NaN</td>\n",
       "    </tr>\n",
       "    <tr>\n",
       "      <th>1</th>\n",
       "      <td>2</td>\n",
       "      <td>4</td>\n",
       "      <td>8</td>\n",
       "      <td>2</td>\n",
       "      <td>6</td>\n",
       "      <td>9</td>\n",
       "    </tr>\n",
       "    <tr>\n",
       "      <th>2</th>\n",
       "      <td>3</td>\n",
       "      <td>NaN</td>\n",
       "      <td>NaN</td>\n",
       "      <td>3</td>\n",
       "      <td>5</td>\n",
       "      <td>8</td>\n",
       "    </tr>\n",
       "  </tbody>\n",
       "</table>\n",
       "</div>"
      ],
      "text/plain": [
       "  cell1         cell2        \n",
       "      t sb1 sb2     t sb1 sb2\n",
       "0     1   3   7   NaN NaN NaN\n",
       "1     2   4   8     2   6   9\n",
       "2     3 NaN NaN     3   5   8"
      ]
     },
     "execution_count": 3,
     "metadata": {},
     "output_type": "execute_result"
    }
   ],
   "source": [
    "from pandas import DataFrame\n",
    "import pandas as pd\n",
    "df1 = DataFrame([[1, 3,7],[2,4,8]])\n",
    "df1.columns=[['cell1','cell1','cell1'],['t','sb1','sb2']]\n",
    "df2 = DataFrame([[3, 5,8],[2,6,9]])\n",
    "df2.columns=[['cell2','cell2','cell2'],['t','sb1','sb2']]\n",
    "pd.merge(df1, df2, left_on=[('cell1', 't')], right_on=[('cell2', 't')],how='outer')"
   ]
  },
  {
   "cell_type": "code",
   "execution_count": 4,
   "metadata": {
    "collapsed": false
   },
   "outputs": [
    {
     "data": {
      "text/html": [
       "<div>\n",
       "<table border=\"1\" class=\"dataframe\">\n",
       "  <thead>\n",
       "    <tr>\n",
       "      <th></th>\n",
       "      <th>time</th>\n",
       "      <th colspan=\"2\" halign=\"left\">cell1</th>\n",
       "      <th colspan=\"2\" halign=\"left\">cell2</th>\n",
       "    </tr>\n",
       "    <tr>\n",
       "      <th></th>\n",
       "      <th>t</th>\n",
       "      <th>sb1</th>\n",
       "      <th>sb2</th>\n",
       "      <th>sb1</th>\n",
       "      <th>sb2</th>\n",
       "    </tr>\n",
       "  </thead>\n",
       "  <tbody>\n",
       "    <tr>\n",
       "      <th>0</th>\n",
       "      <td>1</td>\n",
       "      <td>3</td>\n",
       "      <td>7</td>\n",
       "      <td>NaN</td>\n",
       "      <td>NaN</td>\n",
       "    </tr>\n",
       "    <tr>\n",
       "      <th>1</th>\n",
       "      <td>2</td>\n",
       "      <td>4</td>\n",
       "      <td>8</td>\n",
       "      <td>6</td>\n",
       "      <td>9</td>\n",
       "    </tr>\n",
       "    <tr>\n",
       "      <th>2</th>\n",
       "      <td>3</td>\n",
       "      <td>NaN</td>\n",
       "      <td>NaN</td>\n",
       "      <td>5</td>\n",
       "      <td>8</td>\n",
       "    </tr>\n",
       "  </tbody>\n",
       "</table>\n",
       "</div>"
      ],
      "text/plain": [
       "  time cell1     cell2    \n",
       "     t   sb1 sb2   sb1 sb2\n",
       "0    1     3   7   NaN NaN\n",
       "1    2     4   8     6   9\n",
       "2    3   NaN NaN     5   8"
      ]
     },
     "execution_count": 4,
     "metadata": {},
     "output_type": "execute_result"
    }
   ],
   "source": [
    "df1 = DataFrame([[1, 3,7],[2,4,8]])\n",
    "df1.columns=[['time','cell1','cell1'],['t','sb1','sb2']]\n",
    "df2 = DataFrame([[3, 5,8],[2,6,9]])\n",
    "df2.columns=[['time','cell2','cell2'],['t','sb1','sb2']]\n",
    "pd.merge(df1, df2, left_on=[('time', 't')], right_on=[('time', 't')],how='outer')"
   ]
  },
  {
   "cell_type": "code",
   "execution_count": null,
   "metadata": {
    "collapsed": true
   },
   "outputs": [],
   "source": []
  }
 ],
 "metadata": {
  "kernelspec": {
   "display_name": "Python 2",
   "language": "python",
   "name": "python2"
  },
  "language_info": {
   "codemirror_mode": {
    "name": "ipython",
    "version": 2
   },
   "file_extension": ".py",
   "mimetype": "text/x-python",
   "name": "python",
   "nbconvert_exporter": "python",
   "pygments_lexer": "ipython2",
   "version": "2.7.11"
  }
 },
 "nbformat": 4,
 "nbformat_minor": 0
}
